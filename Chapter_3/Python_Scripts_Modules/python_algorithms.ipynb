{
 "cells": [
  {
   "cell_type": "code",
   "execution_count": 1,
   "metadata": {},
   "outputs": [
    {
     "name": "stdout",
     "output_type": "stream",
     "text": [
      "7\n"
     ]
    }
   ],
   "source": [
    "l = [4, 2, 7, 3]\n",
    "maximum = 0\n",
    "for number in l:\n",
    "    if number > maximum:\n",
    "        maximum = number\n",
    "print(maximum)"
   ]
  },
  {
   "cell_type": "code",
   "execution_count": 2,
   "metadata": {},
   "outputs": [],
   "source": [
    "#Bubble Sort time complexity O(n^2)\n",
    "new_list = [5,8,1,3,2]\n",
    "still_swapping = True\n",
    "\n",
    "while still_swapping:\n",
    "    still_swapping = False\n",
    "    for i in range(len(new_list)-1):\n",
    "        if new_list[i] > new_list[i+1]:\n",
    "            new_list[i], new_list[i+1] = new_list[i+1], new_list[i]\n",
    "            still_swapping = True"
   ]
  },
  {
   "cell_type": "code",
   "execution_count": 3,
   "metadata": {},
   "outputs": [
    {
     "data": {
      "text/plain": [
       "[1, 2, 3, 5, 8]"
      ]
     },
     "execution_count": 3,
     "metadata": {},
     "output_type": "execute_result"
    }
   ],
   "source": [
    "new_list"
   ]
  },
  {
   "cell_type": "code",
   "execution_count": 6,
   "metadata": {},
   "outputs": [
    {
     "name": "stdout",
     "output_type": "stream",
     "text": [
      "1\n"
     ]
    }
   ],
   "source": [
    "#Linear Search\n",
    "d = [5,8,1,3,2]\n",
    "search_for = 8\n",
    "result = -1\n",
    "for i in range(len(d)):\n",
    "    if search_for == d[i]:\n",
    "        result = i\n",
    "        break\n",
    "print(result)"
   ]
  },
  {
   "cell_type": "code",
   "execution_count": null,
   "metadata": {},
   "outputs": [],
   "source": []
  }
 ],
 "metadata": {
  "kernelspec": {
   "display_name": "Python 3",
   "language": "python",
   "name": "python3"
  },
  "language_info": {
   "codemirror_mode": {
    "name": "ipython",
    "version": 3
   },
   "file_extension": ".py",
   "mimetype": "text/x-python",
   "name": "python",
   "nbconvert_exporter": "python",
   "pygments_lexer": "ipython3",
   "version": "3.8.5"
  }
 },
 "nbformat": 4,
 "nbformat_minor": 4
}
