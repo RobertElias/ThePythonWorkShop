{
 "cells": [
  {
   "cell_type": "code",
   "execution_count": 1,
   "metadata": {},
   "outputs": [
    {
     "name": "stdout",
     "output_type": "stream",
     "text": [
      "7\n"
     ]
    }
   ],
   "source": [
    "l = [4, 2, 7, 3]\n",
    "maximum = 0\n",
    "for number in l:\n",
    "    if number > maximum:\n",
    "        maximum = number\n",
    "print(maximum)"
   ]
  },
  {
   "cell_type": "code",
   "execution_count": 2,
   "metadata": {},
   "outputs": [],
   "source": [
    "#Bubble Sort time complexity O(n^2)\n",
    "new_list = [5,8,1,3,2]\n",
    "still_swapping = True\n",
    "\n",
    "while still_swapping:\n",
    "    still_swapping = False\n",
    "    for i in range(len(new_list)-1):\n",
    "        if new_list[i] > new_list[i+1]:\n",
    "            new_list[i], new_list[i+1] = new_list[i+1], new_list[i]\n",
    "            still_swapping = True"
   ]
  },
  {
   "cell_type": "code",
   "execution_count": 3,
   "metadata": {},
   "outputs": [
    {
     "data": {
      "text/plain": [
       "[1, 2, 3, 5, 8]"
      ]
     },
     "execution_count": 3,
     "metadata": {},
     "output_type": "execute_result"
    }
   ],
   "source": [
    "new_list"
   ]
  },
  {
   "cell_type": "code",
   "execution_count": 9,
   "metadata": {},
   "outputs": [
    {
     "name": "stdout",
     "output_type": "stream",
     "text": [
      "1\n"
     ]
    }
   ],
   "source": [
    "#Linear Search\n",
    "d = [5,8,1,3,2]\n",
    "search_for = 8\n",
    "result = -1\n",
    "for i in range(len(d)):\n",
    "    if search_for == d[i]:\n",
    "        result = i\n",
    "        break\n",
    "print(result)"
   ]
  },
  {
   "cell_type": "code",
   "execution_count": 11,
   "metadata": {},
   "outputs": [
    {
     "ename": "NameError",
     "evalue": "name 'slice_End' is not defined",
     "output_type": "error",
     "traceback": [
      "\u001b[0;31m---------------------------------------------------------------------------\u001b[0m",
      "\u001b[0;31mNameError\u001b[0m                                 Traceback (most recent call last)",
      "\u001b[0;32m<ipython-input-11-107e9b59194e>\u001b[0m in \u001b[0;36m<module>\u001b[0;34m\u001b[0m\n\u001b[1;32m      6\u001b[0m \u001b[0mfound\u001b[0m \u001b[0;34m=\u001b[0m \u001b[0;32mFalse\u001b[0m\u001b[0;34m\u001b[0m\u001b[0;34m\u001b[0m\u001b[0m\n\u001b[1;32m      7\u001b[0m \u001b[0;34m\u001b[0m\u001b[0m\n\u001b[0;32m----> 8\u001b[0;31m \u001b[0;32mwhile\u001b[0m \u001b[0mslice_start\u001b[0m \u001b[0;34m<=\u001b[0m \u001b[0mslice_End\u001b[0m \u001b[0;32mand\u001b[0m \u001b[0;32mnot\u001b[0m \u001b[0mfound\u001b[0m\u001b[0;34m:\u001b[0m\u001b[0;34m\u001b[0m\u001b[0;34m\u001b[0m\u001b[0m\n\u001b[0m\u001b[1;32m      9\u001b[0m     \u001b[0mlocation\u001b[0m \u001b[0;34m=\u001b[0m \u001b[0;34m(\u001b[0m\u001b[0mslice_start\u001b[0m \u001b[0;34m+\u001b[0m \u001b[0mslice_end\u001b[0m\u001b[0;34m)\u001b[0m\u001b[0;34m//\u001b[0m\u001b[0;36m2\u001b[0m\u001b[0;34m\u001b[0m\u001b[0;34m\u001b[0m\u001b[0m\n\u001b[1;32m     10\u001b[0m     \u001b[0;32mif\u001b[0m \u001b[0mc\u001b[0m\u001b[0;34m[\u001b[0m\u001b[0mlocation\u001b[0m\u001b[0;34m]\u001b[0m \u001b[0;34m==\u001b[0m \u001b[0msearch_for\u001b[0m\u001b[0;34m:\u001b[0m\u001b[0;34m\u001b[0m\u001b[0;34m\u001b[0m\u001b[0m\n",
      "\u001b[0;31mNameError\u001b[0m: name 'slice_End' is not defined"
     ]
    }
   ],
   "source": [
    "#Binary Search\n",
    "c = [2,3,5,8,11,12,18]\n",
    "search_for = 11\n",
    "slice_start = 0\n",
    "slice_end = len(c) -1\n",
    "found = False\n",
    "\n",
    "while slice_start <= slice_End and not found:\n",
    "    location = (slice_start + slice_end)//2\n",
    "    if c[location] == search_for:\n",
    "        found = True\n",
    "    else:\n",
    "        if search_for < c[location]:\n",
    "            slice_end = location - 1\n",
    "        else:\n",
    "            slice_start = location + 1\n",
    "print(found)\n",
    "print(location)"
   ]
  },
  {
   "cell_type": "code",
   "execution_count": null,
   "metadata": {},
   "outputs": [],
   "source": []
  }
 ],
 "metadata": {
  "kernelspec": {
   "display_name": "Python 3",
   "language": "python",
   "name": "python3"
  },
  "language_info": {
   "codemirror_mode": {
    "name": "ipython",
    "version": 3
   },
   "file_extension": ".py",
   "mimetype": "text/x-python",
   "name": "python",
   "nbconvert_exporter": "python",
   "pygments_lexer": "ipython3",
   "version": "3.8.5"
  }
 },
 "nbformat": 4,
 "nbformat_minor": 4
}
