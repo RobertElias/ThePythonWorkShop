{
 "cells": [
  {
   "cell_type": "code",
   "execution_count": 1,
   "metadata": {},
   "outputs": [
    {
     "name": "stdout",
     "output_type": "stream",
     "text": [
      "[[11, 13, 15], [17, 19, 21], [23, 25, 27]]\n"
     ]
    }
   ],
   "source": [
    "#Implementing Matrix Operations (Addition)\n",
    "X = [[1,2,3],[4,5,6],[7,8,9]]\n",
    "Y = [[10,11,12],[13,14,15],[16,17,18]]\n",
    "\n",
    "#Initialize a result place holder\n",
    "result = [[0,0,0],[0,0,0],[0,0,0]]\n",
    "\n",
    "#iterate through rows\n",
    "for i in range(len(X)):\n",
    "#iterate through the columns\n",
    "    for j in range(len(X[0])):\n",
    "        result[i][j] = X[i][j] + Y[i][j]\n",
    "\n",
    "print(result)"
   ]
  },
  {
   "cell_type": "code",
   "execution_count": 3,
   "metadata": {},
   "outputs": [
    {
     "name": "stdout",
     "output_type": "stream",
     "text": [
      "[[9, 9, 9], [9, 9, 9], [9, 9, 9]]\n"
     ]
    }
   ],
   "source": [
    "#Implementing Matrix Operations (Subtraction)\n",
    "X = [[10,11,12],[13,14,15],[16,17,18]]\n",
    "Y = [[1,2,3],[4,5,6],[7,8,9]]\n",
    "#Initialize a result place holder\n",
    "result = [[0,0,0],[0,0,0],[0,0,0]]\n",
    "\n",
    "#iterate through rows\n",
    "for i in range(len(X)):\n",
    "#iterate through the columns\n",
    "    for j in range(len(X[0])):\n",
    "        result[i][j] = X[i][j] - Y[i][j]\n",
    "\n",
    "print(result)"
   ]
  },
  {
   "cell_type": "code",
   "execution_count": 7,
   "metadata": {},
   "outputs": [
    {
     "name": "stdout",
     "output_type": "stream",
     "text": [
      "[10, 12, 14, 16]\n",
      "[25, 30, 35, 40]\n",
      "[30, 36, 42, 48]\n"
     ]
    }
   ],
   "source": [
    "#Implementing Matrix Operations (Multiplication)\n",
    "X = [[1, 2], [4, 5], [3, 6]]\n",
    "Y = [[1,2,3,4],[5,6,7,8]]\n",
    "#Initialize a result place holder\n",
    "result = [[0, 0, 0, 0], [0, 0, 0, 0], [0, 0, 0, 0]] \n",
    "#iterate by row of X\n",
    "for i in range(len(X)):\n",
    "#iterate through the columns by Y\n",
    "    for j in range(len(Y[0])):\n",
    "        \n",
    "        #iterate by rows of Y\n",
    "        for k in range(len(Y)):\n",
    "            result[i][j] = X[i][k] * Y[k][j]\n",
    "for r in result:\n",
    "    print(r)\n",
    "\n",
    "# print(result)"
   ]
  },
  {
   "cell_type": "code",
   "execution_count": null,
   "metadata": {},
   "outputs": [],
   "source": []
  }
 ],
 "metadata": {
  "kernelspec": {
   "display_name": "Python 3",
   "language": "python",
   "name": "python3"
  },
  "language_info": {
   "codemirror_mode": {
    "name": "ipython",
    "version": 3
   },
   "file_extension": ".py",
   "mimetype": "text/x-python",
   "name": "python",
   "nbconvert_exporter": "python",
   "pygments_lexer": "ipython3",
   "version": "3.8.5"
  }
 },
 "nbformat": 4,
 "nbformat_minor": 4
}
