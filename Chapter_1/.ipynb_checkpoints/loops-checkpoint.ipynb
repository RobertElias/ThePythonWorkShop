{
 "cells": [
  {
   "cell_type": "code",
   "execution_count": 1,
   "metadata": {},
   "outputs": [
    {
     "name": "stdout",
     "output_type": "stream",
     "text": [
      "1\n",
      "2\n",
      "3\n",
      "4\n",
      "5\n",
      "6\n",
      "7\n",
      "8\n",
      "9\n",
      "10\n"
     ]
    }
   ],
   "source": [
    "i = 1\n",
    "while i <= 10:\n",
    "    print(i)\n",
    "    i += 1"
   ]
  },
  {
   "cell_type": "code",
   "execution_count": 2,
   "metadata": {},
   "outputs": [
    {
     "name": "stdout",
     "output_type": "stream",
     "text": [
      "5\n",
      "10\n",
      "15\n",
      "20\n"
     ]
    }
   ],
   "source": [
    "x = 5\n",
    "while x <= 20:\n",
    "    print(x)\n",
    "    x += 5"
   ]
  },
  {
   "cell_type": "code",
   "execution_count": 3,
   "metadata": {},
   "outputs": [
    {
     "name": "stdout",
     "output_type": "stream",
     "text": [
      " 102 is the first number greater than 100 that is divisible by 17.\n"
     ]
    }
   ],
   "source": [
    "x = 100\n",
    "while x <= 1000:\n",
    "    x += 1\n",
    "    if x % 17 == 0:\n",
    "        print('', x, 'is the first number greater than 100 that is divisible by 17.')\n",
    "        break"
   ]
  },
  {
   "cell_type": "code",
   "execution_count": 5,
   "metadata": {},
   "outputs": [
    {
     "name": "stdout",
     "output_type": "stream",
     "text": [
      "The LCM of  24 and 36 is 72 .\n"
     ]
    }
   ],
   "source": [
    "first_divisor = 24\n",
    "second_divisor = 36\n",
    "\n",
    "counting = True\n",
    "i = 1\n",
    "while counting:\n",
    "    if i % first_divisor == 0 and i % second_divisor == 0:\n",
    "        break\n",
    "    i += 1\n",
    "print('The LCM of ', first_divisor, 'and', second_divisor, 'is', i, '.')"
   ]
  },
  {
   "cell_type": "code",
   "execution_count": 9,
   "metadata": {},
   "outputs": [
    {
     "name": "stdout",
     "output_type": "stream",
     "text": [
      "Enter a number to see if it's a perfect square.\n",
      "64\n",
      "The square root of 64 is 8 .\n"
     ]
    }
   ],
   "source": [
    "print('Enter a number to see if it\\'s a perfect square.')\n",
    "\n",
    "number = input()\n",
    "number = abs(int(number))\n",
    "i = -1\n",
    "square = False\n",
    "while i <= number**(0.5):\n",
    "    i += 1\n",
    "    if i*i == number:\n",
    "        square = True\n",
    "        break\n",
    "if square:\n",
    "    print('The square root of', number, 'is', i, '.')\n",
    "else:\n",
    "    print('', number, 'is not a perfect square.')\n",
    "        "
   ]
  },
  {
   "cell_type": "code",
   "execution_count": 11,
   "metadata": {},
   "outputs": [
    {
     "name": "stdout",
     "output_type": "stream",
     "text": [
      "A one bedroom in the Bay Area is listed at $599,000\n",
      "Enter your first offer on the house.\n",
      "500000\n",
      "Enter your best offer on the house.\n",
      "651000\n",
      "How much more do you want to offer each time.\n",
      "50000\n",
      "We're sorry, you're offer of 500000 has not been accepted.\n",
      "We're sorry, you're offer of 550000 has not been accepted.\n",
      "We're sorry, you're offer of 600000 has not been accepted.\n",
      "Your offer of 650000 has been accepted!\n"
     ]
    }
   ],
   "source": [
    "print('A one bedroom in the Bay Area is listed at $599,000')\n",
    "\n",
    "print('Enter your first offer on the house.')\n",
    "\n",
    "offer = abs(int(input()))\n",
    "\n",
    "print('Enter your best offer on the house.')\n",
    "\n",
    "best = abs(int(input()))\n",
    "\n",
    "print('How much more do you want to offer each time.')\n",
    "\n",
    "increment = abs(int(input()))\n",
    "\n",
    "offer_accepted = False\n",
    "\n",
    "while offer <= best:\n",
    "    if offer >= 650000:\n",
    "        print('Your offer of', offer, 'has been accepted!')\n",
    "        break\n",
    "    print('We\\'re sorry, you\\'re offer of', offer, 'has not been accepted.')\n",
    "    offer += increment"
   ]
  },
  {
   "cell_type": "code",
   "execution_count": 12,
   "metadata": {},
   "outputs": [
    {
     "name": "stdout",
     "output_type": "stream",
     "text": [
      "P\n",
      "o\n",
      "r\n",
      "t\n",
      "l\n",
      "a\n",
      "n\n",
      "d\n"
     ]
    }
   ],
   "source": [
    "for i in 'Portland':\n",
    "    print(i)"
   ]
  },
  {
   "cell_type": "code",
   "execution_count": 13,
   "metadata": {},
   "outputs": [
    {
     "name": "stdout",
     "output_type": "stream",
     "text": [
      "1\n",
      "2\n",
      "3\n",
      "4\n",
      "5\n",
      "6\n",
      "7\n",
      "8\n",
      "9\n"
     ]
    }
   ],
   "source": [
    "for i in range(1,10):\n",
    "    print(i)"
   ]
  },
  {
   "cell_type": "code",
   "execution_count": 14,
   "metadata": {},
   "outputs": [
    {
     "name": "stdout",
     "output_type": "stream",
     "text": [
      "0\n",
      "1\n",
      "2\n",
      "3\n",
      "4\n",
      "5\n",
      "6\n",
      "7\n",
      "8\n",
      "9\n"
     ]
    }
   ],
   "source": [
    "for i in range(10):\n",
    "    print(i)"
   ]
  },
  {
   "cell_type": "code",
   "execution_count": 18,
   "metadata": {},
   "outputs": [
    {
     "name": "stdout",
     "output_type": "stream",
     "text": [
      "2\n",
      "4\n",
      "6\n",
      "8\n",
      "10\n"
     ]
    }
   ],
   "source": [
    "for i in range(2,11,2):\n",
    "    print(i)"
   ]
  },
  {
   "cell_type": "code",
   "execution_count": 20,
   "metadata": {},
   "outputs": [
    {
     "name": "stdout",
     "output_type": "stream",
     "text": [
      "1\n",
      "3\n",
      "5\n",
      "7\n",
      "9\n"
     ]
    }
   ],
   "source": [
    "for i in range(1,11,2):\n",
    "    print(i)"
   ]
  },
  {
   "cell_type": "code",
   "execution_count": 21,
   "metadata": {},
   "outputs": [
    {
     "name": "stdout",
     "output_type": "stream",
     "text": [
      "3\n",
      "2\n",
      "1\n"
     ]
    }
   ],
   "source": [
    "for i in range(3,0,-1):\n",
    "    print(i)"
   ]
  },
  {
   "cell_type": "code",
   "execution_count": 23,
   "metadata": {},
   "outputs": [
    {
     "name": "stdout",
     "output_type": "stream",
     "text": [
      "R\n",
      "o\n",
      "b\n",
      "e\n",
      "r\n",
      "t\n",
      " \n",
      "E\n",
      "l\n",
      "i\n",
      "a\n",
      "s\n",
      " \n",
      "R\n",
      "o\n",
      "b\n",
      "e\n",
      "r\n",
      "t\n",
      " \n",
      "E\n",
      "l\n",
      "i\n",
      "a\n",
      "s\n",
      " \n",
      "R\n",
      "o\n",
      "b\n",
      "e\n",
      "r\n",
      "t\n",
      " \n",
      "E\n",
      "l\n",
      "i\n",
      "a\n",
      "s\n",
      " \n"
     ]
    }
   ],
   "source": [
    "name = 'Robert Elias '\n",
    "for i in range(3):\n",
    "    for i in name:\n",
    "        print(i)"
   ]
  },
  {
   "cell_type": "code",
   "execution_count": 27,
   "metadata": {},
   "outputs": [
    {
     "name": "stdout",
     "output_type": "stream",
     "text": [
      "11\n",
      "13\n",
      "17\n",
      "19\n",
      "23\n",
      "29\n",
      "31\n",
      "37\n",
      "41\n",
      "43\n",
      "47\n",
      "53\n",
      "59\n",
      "61\n",
      "67\n",
      "71\n",
      "73\n",
      "79\n",
      "83\n",
      "89\n",
      "97\n"
     ]
    }
   ],
   "source": [
    "for num in range(10,100):\n",
    "    if num % 2 == 0:\n",
    "        continue\n",
    "    if num % 3 == 0:\n",
    "        continue\n",
    "    if num % 5 == 0:\n",
    "        continue\n",
    "    if num % 7 == 0:\n",
    "        continue\n",
    "    print(num)"
   ]
  },
  {
   "cell_type": "code",
   "execution_count": 32,
   "metadata": {},
   "outputs": [
    {
     "name": "stdout",
     "output_type": "stream",
     "text": [
      "What is your name?\n",
      "Robbie\n",
      "Fascinating. Robbie is my name too...\n",
      "Have you though about black holes today?\n",
      "Yes\n",
      "I am so glad you said Yes . I was thinking the same thing.\n",
      "We're kindred spirits, Robbie . Talk later.\n",
      "How intelligent are you? 0 is very dumb. And 10 is a genius\n",
      "8\n",
      "Are you human by chance? Wait.. Dont answer that.\n",
      "How human are you? 0. is not at all and 10 is human all the way...\n",
      "5\n",
      "I knew it.\n"
     ]
    }
   ],
   "source": [
    "print('What is your name?')\n",
    "name = input()\n",
    "print('Fascinating.', name, \"is my name too...\")\n",
    "\n",
    "print('Have you though about black holes today?')\n",
    "yes_no = input()\n",
    "print('I am so glad you said', yes_no, '. I was thinking the same thing.')\n",
    "\n",
    "print('We\\'re kindred spirits,', name, '. Talk later.' )\n",
    "\n",
    "\n",
    "print('How intelligent are you? 0 is very dumb. And 10 is a genius')\n",
    "\n",
    "smarts = input()\n",
    "smarts = int(smarts)\n",
    "\n",
    "if smarts <= 3:\n",
    "    print('I don\\'t believe you.')\n",
    "    print('How bad of a day are you having? 0 is the worst, and 10 is the best.')\n",
    "    \n",
    "    day = input()\n",
    "    day = int(day)\n",
    "    \n",
    "    if day <= 5:\n",
    "        print('If I was human, i would give you a hug.')\n",
    "    else:\n",
    "        print('Maybe i should try your approach...')\n",
    "\n",
    "elif smarts <= 6:\n",
    "    print('I think you\\'re actually smarter.')\n",
    "    print('How much time do you spend online? 0 is none and 10 is 24 hours a day.')\n",
    "    hours = input()\n",
    "    hours = int(hours)\n",
    "    if hours <= 4:\n",
    "        print('That\\'s the problem.')\n",
    "    else:\n",
    "        print('And I thought it was only me.')\n",
    "elif smarts <= 8:\n",
    "    print('Are you human by chance? Wait.. Dont answer that.')\n",
    "    print('How human are you? 0. is not at all and 10 is human all the way...')\n",
    "    human = input()\n",
    "    human = int(human)\n",
    "    if human <=5:\n",
    "        print('I knew it.')\n",
    "    else:\n",
    "        print('I think this courtship is over.')\n",
    "else:\n",
    "    print('I see. How many operating systems do you run?')\n",
    "    \n",
    "    os = input()\n",
    "    os = int(os)\n",
    "    if os <=2:\n",
    "        print('Good thing you\\'re taking this course.')\n",
    "    else:\n",
    "        print('What is this? A competition?')\n",
    "        "
   ]
  },
  {
   "cell_type": "code",
   "execution_count": null,
   "metadata": {},
   "outputs": [],
   "source": []
  }
 ],
 "metadata": {
  "kernelspec": {
   "display_name": "Python 3",
   "language": "python",
   "name": "python3"
  },
  "language_info": {
   "codemirror_mode": {
    "name": "ipython",
    "version": 3
   },
   "file_extension": ".py",
   "mimetype": "text/x-python",
   "name": "python",
   "nbconvert_exporter": "python",
   "pygments_lexer": "ipython3",
   "version": "3.8.5"
  }
 },
 "nbformat": 4,
 "nbformat_minor": 4
}
